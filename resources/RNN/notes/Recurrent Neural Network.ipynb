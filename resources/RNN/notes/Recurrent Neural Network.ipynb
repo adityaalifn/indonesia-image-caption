{
 "cells": [
  {
   "cell_type": "markdown",
   "metadata": {
    "collapsed": true
   },
   "source": [
    "# Recurrent Neural Network (RNN)"
   ]
  },
  {
   "cell_type": "markdown",
   "metadata": {},
   "source": [
    "## Why not a standard network?\n",
    "- \\#nodes in inputs and output layer might be different depends on the total of word\n",
    "- Doesn't share fetures learned across different position of word in the text"
   ]
  },
  {
   "cell_type": "markdown",
   "metadata": {},
   "source": [
    "## What is RNN?\n",
    "![RNN Types](img/rnn types.png)"
   ]
  },
  {
   "cell_type": "markdown",
   "metadata": {},
   "source": [
    "# Gated Recurrent Unit (GRU)\n",
    "![GRU Simplified](img/gru-simple.png)\n",
    "![GRU Full](img/full-gru.png)"
   ]
  },
  {
   "cell_type": "markdown",
   "metadata": {},
   "source": [
    "# Long Short Term Memory\n",
    "- RNN not very good at capturing very long term depedencies\n",
    "\n",
    "# Bidirectional RNN\n",
    "- The word after current word will affecting the prediction.\n",
    "\n",
    "# Deep RNN\n",
    "- Using more than 1 layer of RNN/GRU/LSTM to predicting every sequence"
   ]
  },
  {
   "cell_type": "markdown",
   "metadata": {},
   "source": [
    "# Word Embedding"
   ]
  },
  {
   "cell_type": "markdown",
   "metadata": {},
   "source": [
    "## RNN for Sentiment Classification\n",
    "![RNN for Sentiment Classification](img/RNN for sentiment.png)"
   ]
  },
  {
   "cell_type": "code",
   "execution_count": null,
   "metadata": {},
   "outputs": [],
   "source": []
  }
 ],
 "metadata": {
  "kernelspec": {
   "display_name": "Python 3",
   "language": "python",
   "name": "python3"
  },
  "language_info": {
   "codemirror_mode": {
    "name": "ipython",
    "version": 3
   },
   "file_extension": ".py",
   "mimetype": "text/x-python",
   "name": "python",
   "nbconvert_exporter": "python",
   "pygments_lexer": "ipython3",
   "version": "3.6.6"
  }
 },
 "nbformat": 4,
 "nbformat_minor": 1
}
