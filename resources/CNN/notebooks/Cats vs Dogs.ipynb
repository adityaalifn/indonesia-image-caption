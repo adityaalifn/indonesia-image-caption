{
 "cells": [
  {
   "cell_type": "code",
   "execution_count": 1,
   "metadata": {},
   "outputs": [
    {
     "name": "stderr",
     "output_type": "stream",
     "text": [
      "Using TensorFlow backend.\n"
     ]
    }
   ],
   "source": [
    "from keras.models import Sequential, Model\n",
    "from keras.layers import Dense, Conv2D, MaxPooling2D, Dropout, Activation, Flatten\n",
    "from keras.preprocessing.image import ImageDataGenerator\n",
    "from keras.applications.mobilenet import MobileNet\n",
    "from keras.applications.vgg16 import VGG16\n",
    "from keras.applications.inception_v3 import InceptionV3"
   ]
  },
  {
   "cell_type": "code",
   "execution_count": 3,
   "metadata": {},
   "outputs": [
    {
     "name": "stdout",
     "output_type": "stream",
     "text": [
      "Found 24500 images belonging to 2 classes.\n"
     ]
    },
    {
     "name": "stdout",
     "output_type": "stream",
     "text": [
      "Found 500 images belonging to 2 classes.\n"
     ]
    }
   ],
   "source": [
    "TRAIN_DIR = \"resource/CNN/notebooks/dataset/cats vs dogs/train\"\n",
    "VALIDATION_DIR = \"resource/CNN/notebooks/dataset/cats vs dogs/validation\"\n",
    "TEST_DIR = \"resource/CNN/notebooks/dataset/cats vs dogs/test\"\n",
    "batch_size = 64\n",
    "\n",
    "train_datagen = ImageDataGenerator(\n",
    "    rotation_range=40,\n",
    "    width_shift_range=0.2,\n",
    "    height_shift_range=0.2,\n",
    "    rescale=1./255,\n",
    "    shear_range=0.2,\n",
    "    zoom_range=0.2,\n",
    "    horizontal_flip=True,\n",
    "    fill_mode='nearest'\n",
    "#     rescale=1./255,\n",
    "#     shear_range=0.2,\n",
    "#     zoom_range=0.2,\n",
    "#     horizontal_flip=True\n",
    ")\n",
    "\n",
    "validation_datagen = ImageDataGenerator(\n",
    "    rescale=1./255\n",
    ")\n",
    "\n",
    "train_generator = train_datagen.flow_from_directory(\n",
    "    TRAIN_DIR,\n",
    "    target_size=(224, 224),\n",
    "    batch_size=batch_size,\n",
    "    shuffle=True,\n",
    "    class_mode=\"categorical\"\n",
    ")\n",
    "\n",
    "validation_generator = validation_datagen.flow_from_directory(\n",
    "    VALIDATION_DIR,\n",
    "    target_size=(224, 224),\n",
    "    batch_size=batch_size,\n",
    "    shuffle=True,\n",
    "    class_mode='categorical'\n",
    ")"
   ]
  },
  {
   "cell_type": "code",
   "execution_count": 12,
   "metadata": {},
   "outputs": [],
   "source": [
    "def costum_network():\n",
    "    model = Sequential()\n",
    "\n",
    "    # Conv layer 1\n",
    "    model.add(Conv2D(32, (3,3), padding=\"same\", activation=\"relu\", input_shape=(224, 224, 3)))\n",
    "    model.add(Conv2D(32, (3,3), padding=\"same\", activation=\"relu\"))\n",
    "    model.add(MaxPooling2D(pool_size=(2, 2)))\n",
    "    model.add(Dropout(0.25))\n",
    "\n",
    "    # Conv layer 2\n",
    "    model.add(Conv2D(64, (3,3), padding=\"same\", activation=\"relu\"))\n",
    "    model.add(Conv2D(64, (3,3), padding=\"same\", activation=\"relu\"))\n",
    "    model.add(MaxPooling2D(pool_size=(2, 2)))\n",
    "    model.add(Dropout(0.25))\n",
    "\n",
    "    # Conv layer 3\n",
    "    model.add(Conv2D(128, (3,3), padding=\"same\", activation=\"relu\"))\n",
    "    model.add(Conv2D(128, (3,3), padding=\"same\", activation=\"relu\"))\n",
    "    model.add(Conv2D(128, (3,3), padding=\"same\", activation=\"relu\"))\n",
    "    model.add(MaxPooling2D(pool_size=(2, 2)))\n",
    "    model.add(Dropout(0.25))\n",
    "\n",
    "    # fc\n",
    "    model.add(Flatten())\n",
    "    model.add(Dense(1024, activation=\"relu\"))\n",
    "    model.add(Dropout(0.25))\n",
    "    model.add(Dense(2, activation=\"softmax\"))\n",
    "    \n",
    "    return model\n",
    "\n",
    "def vgg_16():\n",
    "    vgg = VGG16(include_top=True, weights='imagenet', input_tensor=None, input_shape=(224,224,3), pooling=None)\n",
    "    for layer in vgg.layers:\n",
    "        layer.trainable=False\n",
    "    x = vgg.layers[-2].output\n",
    "    output_layer = Dense(2, activation='softmax', name='predictions')(x)\n",
    "\n",
    "    model = Model(inputs=vgg.input, outputs=output_layer)\n",
    "    \n",
    "    return model\n",
    "\n",
    "def mobile_net():\n",
    "    mobile_net = MobileNet(include_top=True, pooling='max', input_shape=(224, 224, 3), classes=2, weights=None)\n",
    "    for layer in mobile_net.layers:\n",
    "        layer.trainable=False\n",
    "    x = mobile_net.layers[-2].output\n",
    "    output_layer = Dense(2, activation='softmax', name='predictions')(x)\n",
    "\n",
    "    model = Model(inputs=mobile_net.input, outputs=output_layer)\n",
    "    \n",
    "    return model\n",
    "\n",
    "def inception_v3():\n",
    "    inception_v3 = InceptionV3(include_top=True, weights='imagenet', input_tensor=None, input_shape=(224,224,3), pooling=None)\n",
    "    for layer in inception_v3.layers:\n",
    "        layer.trainable=False\n",
    "    x = inception_v3.layers[-2].output\n",
    "    output_layer = Dense(2, activation='softmax', name='predictions')(x)\n",
    "\n",
    "    model = Model(inputs=inception_v3.input, outputs=output_layer)\n",
    "    \n",
    "    return model"
   ]
  },
  {
   "cell_type": "code",
   "execution_count": 13,
   "metadata": {},
   "outputs": [
    {
     "name": "stdout",
     "output_type": "stream",
     "text": [
      "_________________________________________________________________\nLayer (type)                 Output Shape              Param #   \n=================================================================\nconv2d_109 (Conv2D)          (None, 224, 224, 32)      896       \n_________________________________________________________________\nconv2d_110 (Conv2D)          (None, 224, 224, 32)      9248      \n_________________________________________________________________\nmax_pooling2d_11 (MaxPooling (None, 112, 112, 32)      0         \n_________________________________________________________________\ndropout_9 (Dropout)          (None, 112, 112, 32)      0         \n_________________________________________________________________\nconv2d_111 (Conv2D)          (None, 112, 112, 64)      18496     \n_________________________________________________________________\nconv2d_112 (Conv2D)          (None, 112, 112, 64)      36928     \n_________________________________________________________________\nmax_pooling2d_12 (MaxPooling (None, 56, 56, 64)        0         \n_________________________________________________________________\ndropout_10 (Dropout)         (None, 56, 56, 64)        0         \n_________________________________________________________________\nconv2d_113 (Conv2D)          (None, 56, 56, 128)       73856     \n_________________________________________________________________\nconv2d_114 (Conv2D)          (None, 56, 56, 128)       147584    \n_________________________________________________________________\nconv2d_115 (Conv2D)          (None, 56, 56, 128)       147584    \n_________________________________________________________________\nmax_pooling2d_13 (MaxPooling (None, 28, 28, 128)       0         \n_________________________________________________________________\ndropout_11 (Dropout)         (None, 28, 28, 128)       0         \n_________________________________________________________________\nflatten_3 (Flatten)          (None, 100352)            0         \n_________________________________________________________________\ndense_5 (Dense)              (None, 1024)              102761472 \n_________________________________________________________________\ndropout_12 (Dropout)         (None, 1024)              0         \n_________________________________________________________________\ndense_6 (Dense)              (None, 2)                 2050      \n=================================================================\nTotal params: 103,198,114\nTrainable params: 103,198,114\nNon-trainable params: 0\n_________________________________________________________________\n"
     ]
    }
   ],
   "source": [
    "model = inception_v3()\n",
    "\n",
    "model.compile(\n",
    "    optimizer=\"adam\",\n",
    "    loss=\"categorical_crossentropy\",\n",
    "    metrics=[\"accuracy\"]\n",
    ")\n",
    "\n",
    "model.summary()"
   ]
  },
  {
   "cell_type": "code",
   "execution_count": 1,
   "metadata": {},
   "outputs": [
    {
     "ename": "NameError",
     "evalue": "name 'model' is not defined",
     "traceback": [
      "\u001b[0;31m---------------------------------------------------------------------------\u001b[0m",
      "\u001b[0;31mNameError\u001b[0m                                 Traceback (most recent call last)",
      "\u001b[0;32m<ipython-input-1-bfc342b7e540>\u001b[0m in \u001b[0;36m<module>\u001b[0;34m()\u001b[0m\n\u001b[1;32m      2\u001b[0m \u001b[0;31m# print(train_generator.next())\u001b[0m\u001b[0;34m\u001b[0m\u001b[0;34m\u001b[0m\u001b[0m\n\u001b[1;32m      3\u001b[0m \u001b[0;31m# sess = tf.Session()\u001b[0m\u001b[0;34m\u001b[0m\u001b[0;34m\u001b[0m\u001b[0m\n\u001b[0;32m----> 4\u001b[0;31m model.fit_generator(\n\u001b[0m\u001b[1;32m      5\u001b[0m     \u001b[0mtrain_generator\u001b[0m\u001b[0;34m,\u001b[0m\u001b[0;34m\u001b[0m\u001b[0m\n\u001b[1;32m      6\u001b[0m     \u001b[0msteps_per_epoch\u001b[0m\u001b[0;34m=\u001b[0m\u001b[0mtrain_generator\u001b[0m\u001b[0;34m.\u001b[0m\u001b[0msamples\u001b[0m \u001b[0;34m//\u001b[0m \u001b[0mbatch_size\u001b[0m\u001b[0;34m,\u001b[0m\u001b[0;34m\u001b[0m\u001b[0m\n",
      "\u001b[0;31mNameError\u001b[0m: name 'model' is not defined"
     ],
     "output_type": "error"
    }
   ],
   "source": [
    "# model.fit(x_train, y_train, batch_size=64, epochs=30, shuffle=True, validation_split=0.1)\n",
    "# print(train_generator.next())\n",
    "# sess = tf.Session()\n",
    "model.fit_generator(\n",
    "    train_generator,\n",
    "    steps_per_epoch=train_generator.samples // batch_size,\n",
    "    epochs=1,\n",
    "    validation_data=validation_generator,\n",
    "    validation_steps=validation_generator.samples // batch_size\n",
    ")\n",
    "\n",
    "model.save(\"cats_vs_dog_cnn.h5\")"
   ]
  },
  {
   "cell_type": "code",
   "execution_count": null,
   "metadata": {},
   "outputs": [],
   "source": []
  },
  {
   "cell_type": "code",
   "execution_count": null,
   "metadata": {},
   "outputs": [],
   "source": []
  }
 ],
 "metadata": {
  "kernelspec": {
   "display_name": "Python 3",
   "language": "python",
   "name": "python3"
  },
  "language_info": {
   "codemirror_mode": {
    "name": "ipython",
    "version": 3
   },
   "file_extension": ".py",
   "mimetype": "text/x-python",
   "name": "python",
   "nbconvert_exporter": "python",
   "pygments_lexer": "ipython3",
   "version": "3.6.6"
  }
 },
 "nbformat": 4,
 "nbformat_minor": 2
}
