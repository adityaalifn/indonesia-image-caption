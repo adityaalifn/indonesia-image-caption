{
 "cells": [
  {
   "cell_type": "markdown",
   "metadata": {},
   "source": [
    "# Object Detection"
   ]
  },
  {
   "cell_type": "markdown",
   "metadata": {},
   "source": [
    "## Object Localization\n",
    "![Localization](img/localization.png)\n",
    "![Localization](img/localization2.png)\n",
    "![Defining the target label](img/localization3.png)"
   ]
  },
  {
   "cell_type": "markdown",
   "metadata": {},
   "source": [
    "## Landmark Detection\n",
    "![Landmark Detection](img/landmark.png)\n",
    "Add the landmark point (x, y) in the output layer and add the confidence of the object detected.<br>\n",
    "Example: If you want do detect 64 face landmarks, add 1 node for to detect if there a face or not and 128 node for detect x,y for each landmarks."
   ]
  },
  {
   "cell_type": "code",
   "execution_count": null,
   "metadata": {},
   "outputs": [],
   "source": []
  }
 ],
 "metadata": {
  "kernelspec": {
   "display_name": "Python 3",
   "language": "python",
   "name": "python3"
  },
  "language_info": {
   "codemirror_mode": {
    "name": "ipython",
    "version": 3
   },
   "file_extension": ".py",
   "mimetype": "text/x-python",
   "name": "python",
   "nbconvert_exporter": "python",
   "pygments_lexer": "ipython3",
   "version": "3.6.6"
  }
 },
 "nbformat": 4,
 "nbformat_minor": 2
}
